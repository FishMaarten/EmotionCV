{
 "cells": [
  {
   "cell_type": "code",
   "execution_count": 20,
   "metadata": {},
   "outputs": [],
   "source": [
    "import numpy as np\n",
    "\n",
    "from tqdm import tqdm\n",
    "from PIL import Image\n",
    "from mnist import MNIST\n",
    "\n",
    "import matplotlib.pyplot as plt\n",
    "\n",
    "import torch\n",
    "import torch.nn as nn\n",
    "import torch.optim as optim\n",
    "import torch.nn.functional as F\n",
    "\n",
    "from torchvision import transforms, datasets\n",
    "from torch.utils.data import Dataset, DataLoader"
   ]
  },
  {
   "cell_type": "code",
   "execution_count": 2,
   "metadata": {},
   "outputs": [],
   "source": [
    "mnist = MNIST(\"MNIST\")\n",
    "class MNISTDataSet(Dataset):\n",
    "    def __init__(self, path, train=True, transform=transforms.ToTensor()):\n",
    "        self.path = path\n",
    "        self.transform = transform\n",
    "        self.images, self.labels = mnist.load_training() if train else mnist.load_testing()\n",
    "        \n",
    "        shape = (int(len(self.images[0])**.5), int(len(self.images[0])**.5))\n",
    "        self.images = list(map(lambda img: np.array(img).reshape(*shape), self.images))\n",
    "        \n",
    "    def __len__(self): return len(self.labels)\n",
    "    \n",
    "    def __getitem__(self, idx):\n",
    "        img = self.images[idx]\n",
    "        img = Image.fromarray(np.uint8(img)).convert(\"L\")\n",
    "    \n",
    "        if self.transform: img = self.transform(img)\n",
    "        label = self.labels[idx]\n",
    "        \n",
    "        return img, label\n",
    "\n",
    "batch_size = 100\n",
    "train_set = MNISTDataSet(mnist, True)\n",
    "train_loader = DataLoader(dataset=train_set, batch_size=batch_size, shuffle=False)\n",
    "test_set = MNISTDataSet(mnist, False)\n",
    "test_loader = DataLoader(dataset=test_set, batch_size=batch_size, shuffle=False)"
   ]
  },
  {
   "cell_type": "code",
   "execution_count": 3,
   "metadata": {},
   "outputs": [],
   "source": [
    "class DNN(nn.Module):\n",
    "    def __init__(self, input_size, hidden_a, hidden_b, num_classes):\n",
    "        super(DNN, self).__init__()\n",
    "        self.fc1 = nn.Linear(input_size, hidden_a, bias=True)\n",
    "        self.fc2 = nn.Linear(hidden_a, hidden_b, bias=True)\n",
    "        self.fc3 = nn.Linear(hidden_b, num_classes, bias=True)\n",
    "        \n",
    "    def forward(self, x):\n",
    "        x = self.fc1(x)\n",
    "        x = self.fc2(x)\n",
    "        x = self.fc3(x)\n",
    "        \n",
    "        return x"
   ]
  },
  {
   "cell_type": "code",
   "execution_count": 4,
   "metadata": {},
   "outputs": [],
   "source": [
    "class CNN_fc(nn.Module):\n",
    "    def __init__(self, in_channels, num_classes):\n",
    "        super(CNN_fc, self).__init__()\n",
    "        self.conv1 = nn.Conv2d(in_channels, 64, kernel_size=5, stride=1, padding=2)\n",
    "        self.conv2 = nn.Conv2d(64, 32, kernel_size=3, stride=1, padding=1)\n",
    "        self.pool = nn.MaxPool2d(kernel_size=2, stride=2)\n",
    "        self.fc = nn.Linear(32*7*7, num_classes, bias=True)\n",
    "        \n",
    "    def forward(self, x):\n",
    "        x = F.relu(self.conv1(x))\n",
    "        x = self.pool(x)\n",
    "        x = F.relu(self.conv2(x))\n",
    "        x = self.pool(x)\n",
    "        x = x.reshape(x.size(0), -1)\n",
    "        x = self.fc(x)\n",
    "        \n",
    "        return x"
   ]
  },
  {
   "cell_type": "code",
   "execution_count": 5,
   "metadata": {},
   "outputs": [],
   "source": [
    "class CNN_conv(nn.Module):\n",
    "    def __init__(self, in_channels, num_classes):\n",
    "        super(CNN_conv, self).__init__()\n",
    "        self.conv1 = nn.Conv2d(in_channels, 64, kernel_size=5, stride=1, padding=2)\n",
    "        self.conv2 = nn.Conv2d(64, 32, kernel_size=3, stride=1, padding=1)\n",
    "        self.pool = nn.MaxPool2d(kernel_size=2, stride=2)\n",
    "        self.conv_out = nn.Conv2d(32, num_classes, kernel_size=7, stride=1, padding=0)\n",
    "        \n",
    "    def forward(self, x):\n",
    "        x = F.relu(self.conv1(x))\n",
    "        x = self.pool(x)\n",
    "        x = F.relu(self.conv2(x))\n",
    "        x = self.pool(x)\n",
    "        x = self.conv_out(x)\n",
    "        \n",
    "        return x"
   ]
  },
  {
   "cell_type": "code",
   "execution_count": 6,
   "metadata": {},
   "outputs": [],
   "source": [
    "class RNN(nn.Module):\n",
    "    def __init__(self, input_size, hidden_size, num_classes, depth):\n",
    "        super(RNN, self).__init__()\n",
    "        self.hidden_size = hidden_size\n",
    "        self.depth = depth\n",
    "        self.rnn = nn.RNN(input_size, hidden_size, depth, batch_first=True)\n",
    "        self.fc = nn.Linear(input_size*hidden_size, num_classes, bias=True)\n",
    "        \n",
    "    def forward(self, x):\n",
    "        h0 = torch.zeros(self.depth, x.size(0), self.hidden_size).to(device)\n",
    "        \n",
    "        x, _ = self.rnn(x, h0)\n",
    "        x = x.reshape(x.size(0), -1)\n",
    "        x = self.fc(x)\n",
    "        \n",
    "        return x"
   ]
  },
  {
   "cell_type": "code",
   "execution_count": 7,
   "metadata": {},
   "outputs": [],
   "source": [
    "class GRU(nn.Module):\n",
    "    def __init__(self, input_size, hidden_size, num_classes, depth):\n",
    "        super(GRU, self).__init__()\n",
    "        self.hidden_size = hidden_size\n",
    "        self.depth = depth\n",
    "        self.gru = nn.GRU(input_size, hidden_size, depth, batch_first=True)\n",
    "        self.fc = nn.Linear(input_size*hidden_size, num_classes, bias=True)\n",
    "        \n",
    "    def forward(self, x):\n",
    "        h0 = torch.zeros(self.depth, x.size(0), self.hidden_size).to(device)\n",
    "        \n",
    "        x, _ = self.gru(x, h0)\n",
    "        x = x.reshape(x.size(0), -1)\n",
    "        x = self.fc(x)\n",
    "        \n",
    "        return x"
   ]
  },
  {
   "cell_type": "code",
   "execution_count": 8,
   "metadata": {},
   "outputs": [],
   "source": [
    "class LSTM(nn.Module):\n",
    "    def __init__(self, input_size, hidden_size, num_classes, depth):\n",
    "        super(LSTM, self).__init__()\n",
    "        self.hidden_size = hidden_size\n",
    "        self.depth = depth\n",
    "        self.lstm = nn.LSTM(input_size, hidden_size, depth, batch_first=True)\n",
    "        self.fc = nn.Linear(input_size*hidden_size, num_classes, bias=True)\n",
    "        \n",
    "    def forward(self, x):\n",
    "        h0 = torch.zeros(self.depth, x.size(0), self.hidden_size).to(device)\n",
    "        c0 = torch.zeros(self.depth, x.size(0), self.hidden_size).to(device)\n",
    "        \n",
    "        x, _ = self.lstm(x, (h0, c0))\n",
    "        x = x.reshape(x.size(0), -1)\n",
    "        x = self.fc(x)\n",
    "        \n",
    "        return x"
   ]
  },
  {
   "cell_type": "code",
   "execution_count": 9,
   "metadata": {},
   "outputs": [],
   "source": [
    "import pandas as pd\n",
    "df = pd.DataFrame(index=[\"DNN\", \"RNN\", \"GRU\", \"LSTM\", \"CNN_fc\", \"CNN_conv\"])"
   ]
  },
  {
   "cell_type": "code",
   "execution_count": 10,
   "metadata": {},
   "outputs": [
    {
     "name": "stderr",
     "output_type": "stream",
     "text": [
      "  0%|          | 0/600 [00:00<?, ?it/s]/home/becode/.local/lib/python3.8/site-packages/torch/autograd/__init__.py:130: UserWarning: CUDA initialization: Found no NVIDIA driver on your system. Please check that you have an NVIDIA GPU and installed a driver from http://www.nvidia.com/Download/index.aspx (Triggered internally at  /pytorch/c10/cuda/CUDAFunctions.cpp:100.)\n",
      "  Variable._execution_engine.run_backward(\n",
      "100%|██████████| 600/600 [00:09<00:00, 64.69it/s]\n",
      "100%|██████████| 100/100 [00:01<00:00, 75.90it/s]\n",
      "100%|██████████| 600/600 [00:08<00:00, 67.13it/s]\n",
      "100%|██████████| 100/100 [00:01<00:00, 75.59it/s]\n",
      "100%|██████████| 600/600 [00:09<00:00, 64.37it/s]\n",
      "100%|██████████| 100/100 [00:01<00:00, 83.18it/s]\n",
      "100%|██████████| 600/600 [00:08<00:00, 71.96it/s]\n",
      "100%|██████████| 100/100 [00:01<00:00, 80.29it/s]\n",
      "100%|██████████| 600/600 [00:08<00:00, 71.87it/s]\n",
      "100%|██████████| 100/100 [00:01<00:00, 83.28it/s]\n"
     ]
    }
   ],
   "source": [
    "device = torch.device(\"cpu\")\n",
    "model = DNN(28**2, 64, 32, 10)\n",
    "criterion = nn.CrossEntropyLoss()\n",
    "optimizer = optim.Adam(model.parameters(), lr=0.001)\n",
    "\n",
    "for epoch in range(1, 6):\n",
    "    for i, (X,y) in enumerate(tqdm(train_loader)):\n",
    "        X = X.view(X.size(0), -1)\n",
    "        X, y = X.to(device), y.to(device)\n",
    "        \n",
    "        score = model(X)\n",
    "        loss = criterion(score, y)\n",
    "        \n",
    "        optimizer.zero_grad()\n",
    "        loss.backward()\n",
    "        optimizer.step()\n",
    "        \n",
    "    accuracy = []\n",
    "    for i, (X,y) in enumerate(tqdm(test_loader)):\n",
    "        predict = model(X.reshape(X.size(0), -1)).max(-1)[1]\n",
    "        accuracy.append(int((predict==y).sum() / batch_size * 100))\n",
    "    df.loc[\"DNN\", f\"Epoch{epoch}\"] = sum(accuracy) / len(test_loader)"
   ]
  },
  {
   "cell_type": "code",
   "execution_count": 11,
   "metadata": {},
   "outputs": [
    {
     "name": "stderr",
     "output_type": "stream",
     "text": [
      "100%|██████████| 600/600 [00:18<00:00, 33.32it/s]\n",
      "100%|██████████| 100/100 [00:01<00:00, 51.74it/s]\n",
      "100%|██████████| 600/600 [00:18<00:00, 32.55it/s]\n",
      "100%|██████████| 100/100 [00:01<00:00, 50.81it/s]\n",
      "100%|██████████| 600/600 [00:17<00:00, 33.95it/s]\n",
      "100%|██████████| 100/100 [00:01<00:00, 52.42it/s]\n",
      "100%|██████████| 600/600 [00:17<00:00, 34.29it/s]\n",
      "100%|██████████| 100/100 [00:01<00:00, 52.56it/s]\n",
      "100%|██████████| 600/600 [00:17<00:00, 34.23it/s]\n",
      "100%|██████████| 100/100 [00:01<00:00, 52.34it/s]\n"
     ]
    }
   ],
   "source": [
    "device = torch.device(\"cpu\")\n",
    "model = RNN(28, 64, 10, 2)\n",
    "criterion = nn.CrossEntropyLoss()\n",
    "optimizer = optim.Adam(model.parameters(), lr=0.001)\n",
    "\n",
    "for epoch in range(1, 6):\n",
    "    for i, (X,y) in enumerate(tqdm(train_loader)):\n",
    "        X = X.squeeze(1)\n",
    "        X, y = X.to(device), y.to(device)\n",
    "        \n",
    "        score = model(X)\n",
    "        loss = criterion(score, y)\n",
    "        \n",
    "        optimizer.zero_grad()\n",
    "        loss.backward()\n",
    "        optimizer.step()\n",
    "        \n",
    "    accuracy = []\n",
    "    for i, (X,y) in enumerate(tqdm(test_loader)):\n",
    "        predict = model(X.squeeze(1)).max(-1)[1]\n",
    "        accuracy.append(int((predict==y).sum() / batch_size * 100))\n",
    "    df.loc[\"RNN\", f\"Epoch{epoch}\"] = sum(accuracy) / len(test_loader)"
   ]
  },
  {
   "cell_type": "code",
   "execution_count": 12,
   "metadata": {},
   "outputs": [
    {
     "name": "stderr",
     "output_type": "stream",
     "text": [
      "100%|██████████| 600/600 [00:35<00:00, 16.68it/s]\n",
      "100%|██████████| 100/100 [00:03<00:00, 32.19it/s]\n",
      "100%|██████████| 600/600 [00:40<00:00, 14.99it/s]\n",
      "100%|██████████| 100/100 [00:03<00:00, 30.28it/s]\n",
      "100%|██████████| 600/600 [00:38<00:00, 15.42it/s]\n",
      "100%|██████████| 100/100 [00:03<00:00, 32.74it/s]\n",
      "100%|██████████| 600/600 [00:39<00:00, 15.02it/s]\n",
      "100%|██████████| 100/100 [00:03<00:00, 29.37it/s]\n",
      "100%|██████████| 600/600 [00:37<00:00, 15.97it/s]\n",
      "100%|██████████| 100/100 [00:03<00:00, 31.91it/s]\n"
     ]
    }
   ],
   "source": [
    "device = torch.device(\"cpu\")\n",
    "model = GRU(28, 64, 10, 2)\n",
    "criterion = nn.CrossEntropyLoss()\n",
    "optimizer = optim.Adam(model.parameters(), lr=0.001)\n",
    "\n",
    "for epoch in range(1, 6):\n",
    "    for i, (X,y) in enumerate(tqdm(train_loader)):\n",
    "        X = X.squeeze(1)\n",
    "        X, y = X.to(device), y.to(device)\n",
    "        \n",
    "        score = model(X).reshape(X.size(0), -1)\n",
    "        loss = criterion(score, y)\n",
    "        \n",
    "        optimizer.zero_grad()\n",
    "        loss.backward()\n",
    "        optimizer.step()\n",
    "        \n",
    "    accuracy = []\n",
    "    for i, (X,y) in enumerate(tqdm(test_loader)):\n",
    "        predict = model(X.squeeze(1)).max(-1)[1]\n",
    "        accuracy.append(int((predict==y).sum() / batch_size * 100))\n",
    "    df.loc[\"GRU\", f\"Epoch{epoch}\"] = sum(accuracy) / len(test_loader)"
   ]
  },
  {
   "cell_type": "code",
   "execution_count": 13,
   "metadata": {},
   "outputs": [
    {
     "name": "stderr",
     "output_type": "stream",
     "text": [
      "100%|██████████| 600/600 [00:39<00:00, 15.28it/s]\n",
      "100%|██████████| 100/100 [00:03<00:00, 28.29it/s]\n",
      "100%|██████████| 600/600 [00:41<00:00, 14.36it/s]\n",
      "100%|██████████| 100/100 [00:03<00:00, 27.87it/s]\n",
      "100%|██████████| 600/600 [00:56<00:00, 10.56it/s]\n",
      "100%|██████████| 100/100 [00:06<00:00, 14.71it/s]\n",
      "100%|██████████| 600/600 [01:10<00:00,  8.54it/s]\n",
      "100%|██████████| 100/100 [00:03<00:00, 30.40it/s]\n",
      "100%|██████████| 600/600 [00:38<00:00, 15.58it/s]\n",
      "100%|██████████| 100/100 [00:03<00:00, 32.65it/s]\n"
     ]
    }
   ],
   "source": [
    "device = torch.device(\"cpu\")\n",
    "model = LSTM(28, 64, 10, 2)\n",
    "criterion = nn.CrossEntropyLoss()\n",
    "optimizer = optim.Adam(model.parameters(), lr=0.001)\n",
    "\n",
    "for epoch in range(1, 6):\n",
    "    for i, (X,y) in enumerate(tqdm(train_loader)):\n",
    "        X = X.squeeze(1)\n",
    "        X, y = X.to(device), y.to(device)\n",
    "        \n",
    "        score = model(X)\n",
    "        loss = criterion(score, y)\n",
    "        \n",
    "        optimizer.zero_grad()\n",
    "        loss.backward()\n",
    "        optimizer.step()\n",
    "        \n",
    "    accuracy = []\n",
    "    for i, (X,y) in enumerate(tqdm(test_loader)):\n",
    "        predict = model(X.squeeze(1)).max(-1)[1]\n",
    "        accuracy.append(int((predict==y).sum() / batch_size * 100))\n",
    "    df.loc[\"LSTM\", f\"Epoch{epoch}\"] = sum(accuracy) / len(test_loader)"
   ]
  },
  {
   "cell_type": "code",
   "execution_count": 14,
   "metadata": {},
   "outputs": [
    {
     "name": "stderr",
     "output_type": "stream",
     "text": [
      "100%|██████████| 600/600 [01:05<00:00,  9.22it/s]\n",
      "100%|██████████| 100/100 [00:04<00:00, 23.00it/s]\n",
      "100%|██████████| 600/600 [01:03<00:00,  9.51it/s]\n",
      "100%|██████████| 100/100 [00:04<00:00, 23.37it/s]\n",
      "100%|██████████| 600/600 [01:13<00:00,  8.15it/s]\n",
      "100%|██████████| 100/100 [00:04<00:00, 20.83it/s]\n",
      "100%|██████████| 600/600 [01:10<00:00,  8.50it/s]\n",
      "100%|██████████| 100/100 [00:04<00:00, 22.31it/s]\n",
      "100%|██████████| 600/600 [01:14<00:00,  8.04it/s]\n",
      "100%|██████████| 100/100 [00:04<00:00, 23.45it/s]\n"
     ]
    }
   ],
   "source": [
    "device = torch.device(\"cpu\")\n",
    "model = CNN_fc(1, 10)\n",
    "criterion = nn.CrossEntropyLoss()\n",
    "optimizer = optim.Adam(model.parameters(), lr=0.001)\n",
    "\n",
    "for epoch in range(1, 6):\n",
    "    for i, (X,y) in enumerate(tqdm(train_loader)):\n",
    "        X, y = X.to(device), y.to(device)\n",
    "        \n",
    "        score = model(X)\n",
    "        loss = criterion(score, y)\n",
    "        \n",
    "        optimizer.zero_grad()\n",
    "        loss.backward()\n",
    "        optimizer.step()\n",
    "        \n",
    "    accuracy = []\n",
    "    for i, (X,y) in enumerate(tqdm(test_loader)):\n",
    "        predict = model(X).max(-1)[1]\n",
    "        accuracy.append(int((predict==y).sum() / batch_size * 100))\n",
    "    df.loc[\"CNN_fc\", f\"Epoch{epoch}\"] = sum(accuracy) / len(test_loader)"
   ]
  },
  {
   "cell_type": "code",
   "execution_count": 39,
   "metadata": {},
   "outputs": [
    {
     "name": "stderr",
     "output_type": "stream",
     "text": [
      "100%|██████████| 600/600 [01:05<00:00,  9.21it/s]\n",
      "100%|██████████| 100/100 [00:04<00:00, 22.34it/s]\n",
      "100%|██████████| 600/600 [01:03<00:00,  9.41it/s]\n",
      "100%|██████████| 100/100 [00:04<00:00, 22.69it/s]\n",
      "100%|██████████| 600/600 [01:03<00:00,  9.46it/s]\n",
      "100%|██████████| 100/100 [00:04<00:00, 22.85it/s]\n",
      "100%|██████████| 600/600 [01:03<00:00,  9.50it/s]\n",
      "100%|██████████| 100/100 [00:04<00:00, 23.49it/s]\n",
      "100%|██████████| 600/600 [01:21<00:00,  7.39it/s]\n",
      "100%|██████████| 100/100 [00:05<00:00, 17.80it/s]\n"
     ]
    }
   ],
   "source": [
    "device = torch.device(\"cpu\")\n",
    "model = CNN_conv(1, 10)\n",
    "criterion = nn.CrossEntropyLoss()\n",
    "optimizer = optim.Adam(model.parameters(), lr=0.001)\n",
    "\n",
    "for epoch in range(1, 6):\n",
    "    for i, (X,y) in enumerate(tqdm(train_loader)):\n",
    "        X, y = X.to(device), y.to(device)\n",
    "        \n",
    "        score = model(X).reshape(X.size(0), -1)\n",
    "        loss = criterion(score, y)\n",
    "        \n",
    "        optimizer.zero_grad()\n",
    "        loss.backward()\n",
    "        optimizer.step()\n",
    "        \n",
    "    accuracy = []\n",
    "    for i, (X,y) in enumerate(tqdm(test_loader)):\n",
    "        predict = model(X).reshape(X.size(0), -1).max(-1)[1]\n",
    "        accuracy.append(int((predict==y).sum() / batch_size * 100))\n",
    "    df.loc[\"CNN_conv\", f\"Epoch{epoch}\"] = sum(accuracy) / len(test_loader)"
   ]
  },
  {
   "cell_type": "code",
   "execution_count": 41,
   "metadata": {},
   "outputs": [
    {
     "data": {
      "image/png": "[encoded data removed]",
      "text/plain": [
       "<Figure size 864x360 with 1 Axes>"
      ]
     },
     "metadata": {
      "needs_background": "light"
     },
     "output_type": "display_data"
    }
   ],
   "source": [
    "df.T.plot(figsize=(12,5))\n",
    "plt.title(\"Accuracy over 5 epochs\")\n",
    "plt.show()"
   ]
  },
  {
   "cell_type": "code",
   "execution_count": 42,
   "metadata": {},
   "outputs": [
    {
     "data": {
      "image/png": "[encoded data removed]",
      "text/plain": [
       "<Figure size 432x288 with 1 Axes>"
      ]
     },
     "metadata": {
      "needs_background": "light"
     },
     "output_type": "display_data"
    }
   ],
   "source": [
    "df.T.max().plot.bar()\n",
    "plt.gca().set_ylim(80,100)\n",
    "plt.show()"
   ]
  },
  {
   "cell_type": "code",
   "execution_count": 43,
   "metadata": {},
   "outputs": [],
   "source": [
    "df.to_csv(\"accuracy.csv\")"
   ]
  },
  {
   "cell_type": "code",
   "execution_count": 45,
   "metadata": {},
   "outputs": [
    {
     "data": {
      "text/html": [
       "<div>\n",
       "<style scoped>\n",
       "    .dataframe tbody tr th:only-of-type {\n",
       "        vertical-align: middle;\n",
       "    }\n",
       "\n",
       "    .dataframe tbody tr th {\n",
       "        vertical-align: top;\n",
       "    }\n",
       "\n",
       "    .dataframe thead th {\n",
       "        text-align: right;\n",
       "    }\n",
       "</style>\n",
       "<table border=\"1\" class=\"dataframe\">\n",
       "  <thead>\n",
       "    <tr style=\"text-align: right;\">\n",
       "      <th></th>\n",
       "      <th>Epoch1</th>\n",
       "      <th>Epoch2</th>\n",
       "      <th>Epoch3</th>\n",
       "      <th>Epoch4</th>\n",
       "      <th>Epoch5</th>\n",
       "    </tr>\n",
       "  </thead>\n",
       "  <tbody>\n",
       "    <tr>\n",
       "      <th>DNN</th>\n",
       "      <td>90.90</td>\n",
       "      <td>91.24</td>\n",
       "      <td>91.20</td>\n",
       "      <td>91.31</td>\n",
       "      <td>91.38</td>\n",
       "    </tr>\n",
       "    <tr>\n",
       "      <th>RNN</th>\n",
       "      <td>94.34</td>\n",
       "      <td>96.35</td>\n",
       "      <td>97.04</td>\n",
       "      <td>97.38</td>\n",
       "      <td>97.58</td>\n",
       "    </tr>\n",
       "    <tr>\n",
       "      <th>GRU</th>\n",
       "      <td>96.03</td>\n",
       "      <td>97.79</td>\n",
       "      <td>98.28</td>\n",
       "      <td>98.44</td>\n",
       "      <td>98.66</td>\n",
       "    </tr>\n",
       "    <tr>\n",
       "      <th>LSTM</th>\n",
       "      <td>95.49</td>\n",
       "      <td>97.44</td>\n",
       "      <td>97.60</td>\n",
       "      <td>97.87</td>\n",
       "      <td>98.26</td>\n",
       "    </tr>\n",
       "    <tr>\n",
       "      <th>CNN_fc</th>\n",
       "      <td>97.64</td>\n",
       "      <td>98.49</td>\n",
       "      <td>98.63</td>\n",
       "      <td>98.69</td>\n",
       "      <td>98.75</td>\n",
       "    </tr>\n",
       "    <tr>\n",
       "      <th>CNN_conv</th>\n",
       "      <td>97.54</td>\n",
       "      <td>98.39</td>\n",
       "      <td>98.69</td>\n",
       "      <td>98.79</td>\n",
       "      <td>98.76</td>\n",
       "    </tr>\n",
       "  </tbody>\n",
       "</table>\n",
       "</div>"
      ],
      "text/plain": [
       "          Epoch1  Epoch2  Epoch3  Epoch4  Epoch5\n",
       "DNN        90.90   91.24   91.20   91.31   91.38\n",
       "RNN        94.34   96.35   97.04   97.38   97.58\n",
       "GRU        96.03   97.79   98.28   98.44   98.66\n",
       "LSTM       95.49   97.44   97.60   97.87   98.26\n",
       "CNN_fc     97.64   98.49   98.63   98.69   98.75\n",
       "CNN_conv   97.54   98.39   98.69   98.79   98.76"
      ]
     },
     "execution_count": 45,
     "metadata": {},
     "output_type": "execute_result"
    }
   ],
   "source": [
    "test = pd.read_csv(\"accuracy.csv\", index_col=0)"
   ]
  }
 ],
 "metadata": {
  "kernelspec": {
   "display_name": "Python 3",
   "language": "python",
   "name": "python3"
  },
  "language_info": {
   "codemirror_mode": {
    "name": "ipython",
    "version": 3
   },
   "file_extension": ".py",
   "mimetype": "text/x-python",
   "name": "python",
   "nbconvert_exporter": "python",
   "pygments_lexer": "ipython3",
   "version": "3.8.5"
  }
 },
 "nbformat": 4,
 "nbformat_minor": 4
}
